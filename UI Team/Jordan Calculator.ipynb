{
 "cells": [
  {
   "cell_type": "code",
   "execution_count": 52,
   "metadata": {},
   "outputs": [
    {
     "data": {
      "application/vnd.jupyter.widget-view+json": {
       "model_id": "3aab37a0ffcd499ab63ec49671341b5c",
       "version_major": 2,
       "version_minor": 0
      },
      "text/plain": [
       "interactive(children=(IntSlider(value=5, continuous_update=False, description='Matrix Dim:', max=10), Output()…"
      ]
     },
     "metadata": {},
     "output_type": "display_data"
    }
   ],
   "source": [
    "from __future__ import print_function\n",
    "from ipywidgets import interact, interactive, fixed, interact_manual\n",
    "import ipywidgets as widgets\n",
    "import numpy as np\n",
    "from ipywidgets import GridspecLayout, Button, Layout\n",
    "\n",
    "gs = None\n",
    "n = None\n",
    "\n",
    "def f(n_features) : \n",
    "    global gs\n",
    "    n=n_features\n",
    "    gs = GridspecLayout(n_features, n_features, layout=Layout(width=f'{n_features*90}px', height='auto'))\n",
    "    for i in range(n_features):\n",
    "        for j in range(n_features):\n",
    "            gs[i, j] = widgets.FloatText(layout=Layout(width='80px', height='auto'))\n",
    "    return gs\n",
    "\n",
    "n_features_slider = widgets.IntSlider(\n",
    "    value=5,\n",
    "    min=0,\n",
    "    max=10,\n",
    "    step=1,\n",
    "    description='Matrix Dim:',\n",
    "    disabled=False,\n",
    "    continuous_update=False,\n",
    "    orientation='horizontal',\n",
    "    readout=True,\n",
    "    readout_format='d'\n",
    ")\n",
    "\n",
    "x=interact(f,n_features=n_features_slider)\n"
   ]
  },
  {
   "cell_type": "code",
   "execution_count": 69,
   "metadata": {
    "scrolled": true
   },
   "outputs": [
    {
     "data": {
      "text/plain": [
       "array([[4.5     , 0.      , 0.      , 0.      , 0.      ],\n",
       "       [0.      , 0.      , 0.988734, 0.      , 0.      ],\n",
       "       [0.      , 0.      , 0.      , 0.      , 0.      ],\n",
       "       [0.      , 0.      , 0.      , 0.      , 0.      ],\n",
       "       [0.      , 0.      , 0.      , 0.      , 0.      ]])"
      ]
     },
     "execution_count": 69,
     "metadata": {},
     "output_type": "execute_result"
    }
   ],
   "source": [
    "gs_values = []\n",
    "for i in range(n_features_slider.value):\n",
    "    gs_values_row = []\n",
    "    for j in range(n_features_slider.value):\n",
    "        gs_values_row.append(gs[i,j].value)\n",
    "    gs_values.append(gs_values_row)\n",
    "gs_array=np.asarray(gs_values)\n",
    "gs_array"
   ]
  },
  {
   "cell_type": "code",
   "execution_count": null,
   "metadata": {},
   "outputs": [],
   "source": []
  },
  {
   "cell_type": "code",
   "execution_count": null,
   "metadata": {},
   "outputs": [],
   "source": []
  }
 ],
 "metadata": {
  "kernelspec": {
   "display_name": "Python 3",
   "language": "python",
   "name": "python3"
  },
  "language_info": {
   "codemirror_mode": {
    "name": "ipython",
    "version": 3
   },
   "file_extension": ".py",
   "mimetype": "text/x-python",
   "name": "python",
   "nbconvert_exporter": "python",
   "pygments_lexer": "ipython3",
   "version": "3.8.3"
  }
 },
 "nbformat": 4,
 "nbformat_minor": 4
}
